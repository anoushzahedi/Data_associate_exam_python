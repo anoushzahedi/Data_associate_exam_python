{
 "cells": [
  {
   "cell_type": "markdown",
   "id": "8d0bcede-0826-475c-8678-72835c042b37",
   "metadata": {},
   "source": [
    "# Practical Exam: Spectrum Shades LLC\n",
    "Spectrum Shades LLC is a prominent supplier of concrete color solutions, offering a wide range of pigments and coloring systems used in various concrete applications, including decorative concrete, precast concrete, and concrete pavers. The company prides itself on delivering high-quality colorants that meet the unique needs of its diverse clientele, including contractors, architects, and construction companies.\n",
    "</br></br>\n",
    "The company has recently observed a growing number of customer complaints regarding inconsistent color quality in their products. The discrepancies have led to a decline in customer satisfaction and a potential increase in product returns.\n",
    "By identifying and mitigating the factors causing color variations, the company can enhance product reliability, reduce customer complaints, and minimize return rates.\n",
    "</br></br>\n",
    "You are part of the data analysis team tasked with providing actionable insights to help Spectrum Shades LLC address the issues of inconsistent color quality and improve customer satisfaction."
   ]
  },
  {
   "cell_type": "markdown",
   "id": "c0d5a3bb-bbae-4d39-a6c6-daa46c470347",
   "metadata": {},
   "source": [
    "# Task 1\n",
    "\n",
    "Before you can start any analysis, you need to confirm that the data is accurate and reflects what you expect to see. \n",
    "\n",
    "It is known that there are some issues with the `production_data` table, and the data team have provided the following data description. \n",
    "\n",
    "Write a query to ensure the data matches the description provided, including identifying and cleaning all invalid values. You must match all column names and description criteria.\n",
    "</br>\n",
    "\n",
    "- You should start with the data in the file \"production_data.csv\".\n",
    "- Your output should be a DataFrame named clean_data.\n",
    "- All column names and values should match the table below.\n",
    "</br>\n",
    "\n",
    "| Column Name             | Criteria                                                                                         |\n",
    "|--------------------------|--------------------------------------------------------------------------------------------------|\n",
    "| batch_id | Discrete. Identifier for each batch. Missing values are not possible. |\n",
    "| production_date | Date. Date when the batch was produced.|\n",
    "| raw_material_supplier | Categorical. Supplier of the raw materials. (1='national_supplier', 2='international_supplier'). <br> Missing values should be replaced with 'national_supplier'.|\n",
    "| pigment_type           | Nominal. Type of pigment used. ['type_a', 'type_b', 'type_c']. <br> Missing values should be replaced with 'other'. |\n",
    "| pigment_quantity       | Continuous. Amount of pigment added (in kilograms) (Range: 1 - 100). <br> Missing values should be replaced with median. |\n",
    "| mixing_time           | Continuous. Duration of the mixing process (in minutes). <br> Missing values should be replaced with mean, rounded to 2 decimal places. |\n",
    "| mixing_speed          | Categorical. Speed of the mixing process represented as categories: 'Low', 'Medium', 'High'.</br> Missing values should be replaced with 'Not Specified'. |\n",
    "| product_quality_score | Continuous. Overall quality score of the final product (rating on a scale of 1 to 10). <br> Missing values should be replaced with mean, rounded to 2 decimal places. |\n"
   ]
  },
  {
   "cell_type": "code",
   "execution_count": 3,
   "id": "5ce18b54-29af-4beb-bc8c-79c4e21bcd52",
   "metadata": {
    "executionCancelledAt": null,
    "executionTime": 33,
    "lastExecutedAt": 1750333457685,
    "lastExecutedByKernel": "f4d43f31-d52c-44d4-af2f-c079b4482a44",
    "lastScheduledRunId": null,
    "lastSuccessfullyExecutedCode": "# Task 1\nimport pandas as pd\nimport numpy as np\n\n# reading the data\nproduction_data = pd.read_csv(\"production_data.csv\")\n\n# converting date column to datetime format\nproduction_data['production_date'] = pd.to_datetime(production_data['production_date'], \n                                                     infer_datetime_format = True)\n\n# raw_material_supplier replacing missing values\nproduction_data['raw_material_supplier'] = production_data['raw_material_supplier'].fillna(1)\n\n# raw_material_supplier making sure all values are either 1 or 2\nassert all(x in {1,2} for x in production_data['raw_material_supplier'])\n\n# raw_material_supplier mapping\nsupp_map = {1:'national_supplier', 2:'international_supplier'}\nproduction_data['raw_material_supplier'] = production_data['raw_material_supplier'].map(supp_map)\nproduction_data['raw_material_supplier'] = production_data['raw_material_supplier'].astype('category')\n\n# pigment_type should be cat ['type_a', 'type_b', 'type_c']\nproduction_data['pigment_type'] = production_data['pigment_type'].str.lower().astype('category')\nassert all(x in {'type_a', 'type_b', 'type_c'} for x in production_data['pigment_type'].unique())\n\n# pigment_quantity should be [1,100]\nproduction_data['pigment_quantity'] = production_data['pigment_quantity'].clip(lower=1, upper=100)\nproduction_data['pigment_quantity'] = production_data['pigment_quantity'].fillna(production_data['pigment_quantity'].median())\n\n# mixing_time missing values should be filled with mean().round(2)\nproduction_data['mixing_time'] = production_data['mixing_time'].fillna(production_data['mixing_time']\\\n                                                                       .mean()\\\n                                                                       .round(2))\n\n# mixing_speed dtype == cat\nproduction_data['mixing_speed'] = production_data['mixing_speed'].\\\n                                str.capitalize().\\\n                                apply(lambda x: x if x in {'Low', 'Medium', 'High'} else 'Not Specified').\\\n                                astype('category')\n\n# product_quality_score rating on a scale of 1 to 10.\n# missing replaced with mean().round(2)\nproduction_data['product_quality_score'] = production_data['product_quality_score'].clip(lower=1, upper=10)\nproduction_data['product_quality_score'] = production_data['product_quality_score'].\\\n                                                fillna(production_data['product_quality_score'].\\\n                                                mean().round(2))\n# final checks\nprint(production_data.isna().sum())\nprint(production_data.dtypes)\n\n# creating the requested DataFrame\nclean_data = production_data.copy()",
    "outputsMetadata": {
     "0": {
      "height": 342,
      "type": "stream"
     },
     "1": {
      "height": 550,
      "tableState": {},
      "type": "dataFrame"
     }
    }
   },
   "outputs": [
    {
     "name": "stdout",
     "output_type": "stream",
     "text": [
      "batch_id                 0\n",
      "production_date          0\n",
      "raw_material_supplier    0\n",
      "pigment_type             0\n",
      "pigment_quantity         0\n",
      "mixing_time              0\n",
      "mixing_speed             0\n",
      "product_quality_score    0\n",
      "dtype: int64\n",
      "batch_id                          int64\n",
      "production_date          datetime64[ns]\n",
      "raw_material_supplier          category\n",
      "pigment_type                   category\n",
      "pigment_quantity                float64\n",
      "mixing_time                     float64\n",
      "mixing_speed                   category\n",
      "product_quality_score           float64\n",
      "dtype: object\n"
     ]
    }
   ],
   "source": [
    "# Task 1\n",
    "import pandas as pd\n",
    "import numpy as np\n",
    "\n",
    "# reading the data\n",
    "production_data = pd.read_csv(\"production_data.csv\")\n",
    "\n",
    "# converting date column to datetime format\n",
    "production_data['production_date'] = pd.to_datetime(production_data['production_date'])\n",
    "\n",
    "# raw_material_supplier replacing missing values\n",
    "production_data['raw_material_supplier'] = production_data['raw_material_supplier'].fillna(1)\n",
    "\n",
    "# raw_material_supplier making sure all values are either 1 or 2\n",
    "assert all(x in {1,2} for x in production_data['raw_material_supplier'])\n",
    "\n",
    "# raw_material_supplier mapping\n",
    "supp_map = {1:'national_supplier', 2:'international_supplier'}\n",
    "production_data['raw_material_supplier'] = production_data['raw_material_supplier'].map(supp_map)\n",
    "production_data['raw_material_supplier'] = production_data['raw_material_supplier'].astype('category')\n",
    "\n",
    "# pigment_type should be cat ['type_a', 'type_b', 'type_c']\n",
    "production_data['pigment_type'] = production_data['pigment_type'].str.lower().astype('category')\n",
    "assert all(x in {'type_a', 'type_b', 'type_c'} for x in production_data['pigment_type'].unique())\n",
    "\n",
    "# pigment_quantity should be [1,100]\n",
    "production_data['pigment_quantity'] = production_data['pigment_quantity'].clip(lower=1, upper=100)\n",
    "production_data['pigment_quantity'] = production_data['pigment_quantity'].fillna(production_data['pigment_quantity'].median())\n",
    "\n",
    "# mixing_time missing values should be filled with mean().round(2)\n",
    "production_data['mixing_time'] = production_data['mixing_time'].fillna(production_data['mixing_time']\\\n",
    "                                                                       .mean()\\\n",
    "                                                                       .round(2))\n",
    "\n",
    "# mixing_speed dtype == cat\n",
    "production_data['mixing_speed'] = production_data['mixing_speed'].\\\n",
    "                                str.capitalize().\\\n",
    "                                apply(lambda x: x if x in {'Low', 'Medium', 'High'} else 'Not Specified').\\\n",
    "                                astype('category')\n",
    "\n",
    "# product_quality_score rating on a scale of 1 to 10.\n",
    "# missing replaced with mean().round(2)\n",
    "production_data['product_quality_score'] = production_data['product_quality_score'].clip(lower=1, upper=10)\n",
    "production_data['product_quality_score'] = production_data['product_quality_score'].\\\n",
    "                                                fillna(production_data['product_quality_score'].\\\n",
    "                                                mean().round(2))\n",
    "# final checks\n",
    "print(production_data.isna().sum())\n",
    "print(production_data.dtypes)\n",
    "\n",
    "# creating the requested DataFrame\n",
    "clean_data = production_data.copy()"
   ]
  },
  {
   "cell_type": "markdown",
   "id": "026b3c30-d3b0-4762-ae10-0f2880873bdc",
   "metadata": {},
   "source": [
    "# Task 2\n",
    "\n",
    "You want to understand how the supplier type and quantity of materials affect the final product attributes.\n",
    "\n",
    "Calculate the average `product_quality_score` and `pigment_quantity` grouped by `raw_material_supplier`.\n",
    "\n",
    "- You should start with the data in the file 'production_data.csv'. \n",
    "- Your output should be a DataFrame named aggregated_data.\n",
    "- It should include the three columns: `raw_material_supplier`, `avg_product_quality_score`, and `avg_pigment_quantity`.\n",
    "- Your answers should be rounded to 2 decimal places.\n"
   ]
  },
  {
   "cell_type": "code",
   "execution_count": 6,
   "id": "6d47e440-c4ab-45cf-af40-53181764bac4",
   "metadata": {
    "executionCancelledAt": null,
    "executionTime": 21,
    "lastExecutedAt": 1750333940934,
    "lastExecutedByKernel": "f4d43f31-d52c-44d4-af2f-c079b4482a44",
    "lastScheduledRunId": null,
    "lastSuccessfullyExecutedCode": "# Task 2\naggregated_data = production_data.copy()\n# grouping by raw_material_supplier and finding the averages\naggregated_data = aggregated_data.groupby('raw_material_supplier')\\\n                                        [['product_quality_score', 'pigment_quantity']].\\\n                                        agg('mean').reset_index()\n\n# rounding to 2 decimals\naggregated_data['product_quality_score'] = aggregated_data['product_quality_score'].round(2)\naggregated_data['pigment_quantity'] = aggregated_data['pigment_quantity'].round(2)\n\n# changing the column names\naggregated_data.columns = ['raw_material_supplier', 'avg_product_quality_score',  'avg_pigment_quantity']\n\n# final check\nprint(aggregated_data)",
    "outputsMetadata": {
     "0": {
      "height": 80,
      "type": "stream"
     }
    }
   },
   "outputs": [
    {
     "name": "stdout",
     "output_type": "stream",
     "text": [
      "    raw_material_supplier  avg_product_quality_score  avg_pigment_quantity\n",
      "0  international_supplier                       5.97                 34.91\n",
      "1       national_supplier                       8.02                 44.73\n"
     ]
    }
   ],
   "source": [
    "# Task 2\n",
    "aggregated_data = production_data.copy()\n",
    "# grouping by raw_material_supplier and finding the averages\n",
    "aggregated_data = aggregated_data.groupby('raw_material_supplier', observed=False)\\\n",
    "                                        [['product_quality_score', 'pigment_quantity']].\\\n",
    "                                        agg('mean').reset_index()\n",
    "\n",
    "# rounding to 2 decimals\n",
    "aggregated_data['product_quality_score'] = aggregated_data['product_quality_score'].round(2)\n",
    "aggregated_data['pigment_quantity'] = aggregated_data['pigment_quantity'].round(2)\n",
    "\n",
    "# changing the column names\n",
    "aggregated_data.columns = ['raw_material_supplier', 'avg_product_quality_score',  'avg_pigment_quantity']\n",
    "\n",
    "# final check\n",
    "print(aggregated_data)"
   ]
  },
  {
   "cell_type": "markdown",
   "id": "cb821882-c29a-42e7-bff8-e281dc068a9b",
   "metadata": {},
   "source": [
    "# Task 3\n",
    "\n",
    "To get more insight into the factors behind product quality, you want to filter the data to see an average product quality score for a specified set of results.\n",
    "\n",
    "Identify the average `product_quality_score` for batches with a `raw_material_supplier` of 2 and a `pigment_quantity` greater than 35 kg.\n",
    "\n",
    "Write a query to return the average `avg_product_quality_score` for these filtered batches. Use the original production data table, not the output of Task 2.\n",
    "\n",
    "- You should start with the data in the file 'production_data.csv'. \n",
    "- Your output should be a DataFrame named pigment_data.\n",
    "- It should consist of a 1-row DataFrame with 3 columns: `raw_material_supplier`, `pigment_quantity`, and `avg_product_quality_score`.\n",
    "- Your answers should be rounded to 2 decimal places where appropriate.\n"
   ]
  },
  {
   "cell_type": "code",
   "execution_count": 7,
   "id": "b30f8d6b-21cc-4de7-9c88-dffeb602f9d3",
   "metadata": {
    "executionCancelledAt": null,
    "executionTime": 48,
    "lastExecutedAt": 1750334072711,
    "lastExecutedByKernel": "f4d43f31-d52c-44d4-af2f-c079b4482a44",
    "lastScheduledRunId": null,
    "lastSuccessfullyExecutedCode": "# Task 3\nfiltered_data = pd.read_csv('production_data.csv')\n\n# Filter for supplier 2 and pigment_quantity > 35\nfiltered_data = filtered_data[(filtered_data['raw_material_supplier'] == 2) & (filtered_data['pigment_quantity'] > 35)]\n\n# Calculate the average product quality score\navg_quality = filtered_data['product_quality_score'].mean().round(2)\n\n# Create the output DataFrame\npigment_data = pd.DataFrame({\n    'raw_material_supplier': [2],\n    'pigment_quantity': ['>35 kg'],\n    'avg_product_quality_score': [avg_quality]\n})\n\n# Display the result\nprint(pigment_data)"
   },
   "outputs": [
    {
     "name": "stdout",
     "output_type": "stream",
     "text": [
      "   raw_material_supplier pigment_quantity  avg_product_quality_score\n",
      "0                      2           >35 kg                       5.97\n"
     ]
    }
   ],
   "source": [
    "# Task 3\n",
    "filtered_data = pd.read_csv('production_data.csv')\n",
    "\n",
    "# Filter for supplier 2 and pigment_quantity > 35\n",
    "filtered_data = filtered_data[(filtered_data['raw_material_supplier'] == 2) & (filtered_data['pigment_quantity'] > 35)]\n",
    "\n",
    "# Calculate the average product quality score\n",
    "avg_quality = filtered_data['product_quality_score'].mean().round(2)\n",
    "\n",
    "# Create the output DataFrame\n",
    "pigment_data = pd.DataFrame({\n",
    "    'raw_material_supplier': [2],\n",
    "    'pigment_quantity': ['>35 kg'],\n",
    "    'avg_product_quality_score': [avg_quality]\n",
    "})\n",
    "\n",
    "# Display the result\n",
    "print(pigment_data)"
   ]
  },
  {
   "cell_type": "markdown",
   "id": "42718e48-205a-48ab-8ddc-a93857b71726",
   "metadata": {},
   "source": [
    "# Task 4\n",
    "\n",
    "In order to proceed with further analysis later, you need to analyze how various factors relate to product quality. Start by calculating the mean and standard deviation for the following columns: `pigment_quantity`, and `product_quality_score`. </br> These statistics will help in understanding the central tendency and variability of the data related to product quality.\n",
    "</br> </br >\n",
    "Next, calculate the Pearson correlation coefficient between the following variables: `pigment_quantity`, and `product_quality_score`.\n",
    "</br>\n",
    "These correlation coefficients will provide insights into the strength and direction of the relationships between the factors and overall product quality.\n",
    "\n",
    "\n",
    "- You should start with the data in the file 'production_data.csv'.\n",
    "- Calculate the mean and standard deviation for the columns pigment_quantity and product_quality_score as: `product_quality_score_mean`, `product_quality_score_sd`, `pigment_quantity_mean`, `pigment_quantity_sd`.\n",
    "- Calculate the Pearson correlation coefficient between pigment_quantity and product_quality_score as: `corr_coef`\n",
    "- Your output should be a DataFrame named product_quality.\n",
    "- It should include the columns: `product_quality_score_mean`, `product_quality_score_sd`, `pigment_quantity_mean`, `pigment_quantity_sd`, `corr_coef`.\n",
    "- Ensure that your answers are rounded to 2 decimal places.\n"
   ]
  },
  {
   "cell_type": "code",
   "execution_count": 10,
   "id": "eb9b11fd-07d5-4a39-b2fa-afaa69285e3b",
   "metadata": {
    "executionCancelledAt": null,
    "executionTime": 22,
    "lastExecutedAt": 1750334216657,
    "lastExecutedByKernel": "f4d43f31-d52c-44d4-af2f-c079b4482a44",
    "lastScheduledRunId": null,
    "lastSuccessfullyExecutedCode": "# Task 4\ndf = production_data.copy()\n\n# Calculate mean() and std() for both columns\nproduct_quality_score_mean = round(df['product_quality_score'].mean(), 2)\nproduct_quality_score_sd = round(df['product_quality_score'].std(), 2)\npigment_quantity_mean = round(df['pigment_quantity'].mean(), 2)\npigment_quantity_sd = round(df['pigment_quantity'].std(), 2)\n\n# Calculate Pearson's correlation coefficient\ncorr_coef = round(df['pigment_quantity'].corr(df['product_quality_score']), 2)\n\n# Create the output DataFrame\nproduct_quality = pd.DataFrame({\n    'product_quality_score_mean': [product_quality_score_mean],\n    'product_quality_score_sd': [product_quality_score_sd],\n    'pigment_quantity_mean': [pigment_quantity_mean],\n    'pigment_quantity_sd': [pigment_quantity_sd],\n    'corr_coef': [corr_coef]\n})\n\n# final checks\nprint(product_quality)"
   },
   "outputs": [
    {
     "name": "stdout",
     "output_type": "stream",
     "text": [
      "   product_quality_score_mean  product_quality_score_sd  \\\n",
      "0                        6.68                      1.39   \n",
      "\n",
      "   pigment_quantity_mean  pigment_quantity_sd  corr_coef  \n",
      "0                  38.35                 6.83       0.49  \n"
     ]
    }
   ],
   "source": [
    "# Task 4\n",
    "df = production_data.copy()\n",
    "\n",
    "# Calculate mean() and std() for both columns\n",
    "product_quality_score_mean = round(df['product_quality_score'].mean(), 2)\n",
    "product_quality_score_sd = round(df['product_quality_score'].std(), 2)\n",
    "pigment_quantity_mean = round(df['pigment_quantity'].mean(), 2)\n",
    "pigment_quantity_sd = round(df['pigment_quantity'].std(), 2)\n",
    "\n",
    "# Calculate Pearson's correlation coefficient\n",
    "corr_coef = round(df['pigment_quantity'].corr(df['product_quality_score']), 2)\n",
    "\n",
    "# Create the output DataFrame\n",
    "product_quality = pd.DataFrame({\n",
    "    'product_quality_score_mean': [product_quality_score_mean],\n",
    "    'product_quality_score_sd': [product_quality_score_sd],\n",
    "    'pigment_quantity_mean': [pigment_quantity_mean],\n",
    "    'pigment_quantity_sd': [pigment_quantity_sd],\n",
    "    'corr_coef': [corr_coef]\n",
    "})\n",
    "\n",
    "# final checks\n",
    "print(product_quality)"
   ]
  },
  {
   "cell_type": "markdown",
   "id": "55757050-8460-4480-8ae3-634d851c1021",
   "metadata": {},
   "source": [
    "# FORMATTING AND NAMING CHECK\n",
    "Use the code block below to check that your outputs are correctly named and formatted before you submit your project.\n",
    "\n",
    "This code checks whether you have met our automarking requirements: that the specified DataFrames exist and contain the required columns. It then prints a table showing ✅ for each column that exists and ❌ for any that are missing, or if the DataFrame itself isn't available.\n",
    "\n",
    "If a DataFrame or a column in a DataFrame doesn't exist, carefully check your code again.\n",
    "\n",
    "IMPORTANT: even if your code passes the check below, this does not mean that your entire submission is correct. This is a check for naming and formatting only."
   ]
  },
  {
   "cell_type": "code",
   "execution_count": 12,
   "id": "32d20ff0-695a-4aba-9faf-c3cac0af19d8",
   "metadata": {
    "executionCancelledAt": null,
    "executionTime": 52,
    "lastExecutedAt": 1750334226579,
    "lastExecutedByKernel": "f4d43f31-d52c-44d4-af2f-c079b4482a44",
    "lastScheduledRunId": null,
    "lastSuccessfullyExecutedCode": "import pandas as pd\n\ndef check_columns(output_df, output_df_name, required_columns):\n    results = []\n    for col in required_columns:\n        exists = col in output_df.columns\n        results.append({'Dataset': output_df_name, 'Column': col, 'Exists': '✅' if exists else '❌'})\n    return results\n\ndef safe_check(output_df_name, required_columns):\n    results = []\n    if output_df_name in globals():\n        obj = globals()[output_df_name]\n        if isinstance(obj, pd.DataFrame):\n            results.extend(check_columns(obj, output_df_name, required_columns))\n        elif isinstance(obj, str) and (\"SELECT\" in obj.upper() or \"FROM\" in obj.upper()):\n            results.append({'Dataset': output_df_name, 'Column': '—', 'Exists': 'ℹ️ SQL query string'})\n        else:\n            results.append({'Dataset': output_df_name, 'Column': '—', 'Exists': '❌ Not a DataFrame or query'})\n    else:\n        results.append({'Dataset': output_df_name, 'Column': '—', 'Exists': '❌ Variable not defined'})\n    return results\n\nrequirements = {\n    'clean_data': ['production_date', 'pigment_type', 'mixing_time', 'mixing_speed'],\n    'aggregated_data': ['raw_material_supplier', 'avg_product_quality_score', 'avg_pigment_quantity'],\n    'pigment_data': ['raw_material_supplier', 'pigment_quantity', 'avg_product_quality_score'],\n    'product_quality': ['product_quality_score_mean', 'product_quality_score_sd',\n                        'pigment_quantity_mean', 'pigment_quantity_sd', 'corr_coef']\n}\n\nall_results = []\nfor output_df_name, cols in requirements.items():\n    all_results += safe_check(output_df_name, cols)\n\ncheck_results_df = pd.DataFrame(all_results)\n\nprint(check_results_df)",
    "outputsMetadata": {
     "0": {
      "height": 122,
      "type": "stream"
     }
    }
   },
   "outputs": [
    {
     "name": "stdout",
     "output_type": "stream",
     "text": [
      "            Dataset                      Column Exists\n",
      "0        clean_data             production_date      ✅\n",
      "1        clean_data                pigment_type      ✅\n",
      "2        clean_data                 mixing_time      ✅\n",
      "3        clean_data                mixing_speed      ✅\n",
      "4   aggregated_data       raw_material_supplier      ✅\n",
      "5   aggregated_data   avg_product_quality_score      ✅\n",
      "6   aggregated_data        avg_pigment_quantity      ✅\n",
      "7      pigment_data       raw_material_supplier      ✅\n",
      "8      pigment_data            pigment_quantity      ✅\n",
      "9      pigment_data   avg_product_quality_score      ✅\n",
      "10  product_quality  product_quality_score_mean      ✅\n",
      "11  product_quality    product_quality_score_sd      ✅\n",
      "12  product_quality       pigment_quantity_mean      ✅\n",
      "13  product_quality         pigment_quantity_sd      ✅\n",
      "14  product_quality                   corr_coef      ✅\n"
     ]
    }
   ],
   "source": [
    "import pandas as pd\n",
    "\n",
    "def check_columns(output_df, output_df_name, required_columns):\n",
    "    results = []\n",
    "    for col in required_columns:\n",
    "        exists = col in output_df.columns\n",
    "        results.append({'Dataset': output_df_name, 'Column': col, 'Exists': '✅' if exists else '❌'})\n",
    "    return results\n",
    "\n",
    "def safe_check(output_df_name, required_columns):\n",
    "    results = []\n",
    "    if output_df_name in globals():\n",
    "        obj = globals()[output_df_name]\n",
    "        if isinstance(obj, pd.DataFrame):\n",
    "            results.extend(check_columns(obj, output_df_name, required_columns))\n",
    "        elif isinstance(obj, str) and (\"SELECT\" in obj.upper() or \"FROM\" in obj.upper()):\n",
    "            results.append({'Dataset': output_df_name, 'Column': '—', 'Exists': 'ℹ️ SQL query string'})\n",
    "        else:\n",
    "            results.append({'Dataset': output_df_name, 'Column': '—', 'Exists': '❌ Not a DataFrame or query'})\n",
    "    else:\n",
    "        results.append({'Dataset': output_df_name, 'Column': '—', 'Exists': '❌ Variable not defined'})\n",
    "    return results\n",
    "\n",
    "requirements = {\n",
    "    'clean_data': ['production_date', 'pigment_type', 'mixing_time', 'mixing_speed'],\n",
    "    'aggregated_data': ['raw_material_supplier', 'avg_product_quality_score', 'avg_pigment_quantity'],\n",
    "    'pigment_data': ['raw_material_supplier', 'pigment_quantity', 'avg_product_quality_score'],\n",
    "    'product_quality': ['product_quality_score_mean', 'product_quality_score_sd',\n",
    "                        'pigment_quantity_mean', 'pigment_quantity_sd', 'corr_coef']\n",
    "}\n",
    "\n",
    "all_results = []\n",
    "for output_df_name, cols in requirements.items():\n",
    "    all_results += safe_check(output_df_name, cols)\n",
    "\n",
    "check_results_df = pd.DataFrame(all_results)\n",
    "\n",
    "print(check_results_df)"
   ]
  },
  {
   "cell_type": "code",
   "execution_count": null,
   "id": "1966f37e-0d0e-4bd9-afa1-f2ce664e2122",
   "metadata": {},
   "outputs": [],
   "source": []
  }
 ],
 "metadata": {
  "colab": {
   "name": "Welcome to DataCamp Workspaces.ipynb",
   "provenance": []
  },
  "editor": "DataLab",
  "kernelspec": {
   "display_name": "Python [conda env:base] *",
   "language": "python",
   "name": "conda-base-py"
  },
  "language_info": {
   "codemirror_mode": {
    "name": "ipython",
    "version": 3
   },
   "file_extension": ".py",
   "mimetype": "text/x-python",
   "name": "python",
   "nbconvert_exporter": "python",
   "pygments_lexer": "ipython3",
   "version": "3.12.7"
  }
 },
 "nbformat": 4,
 "nbformat_minor": 5
}
